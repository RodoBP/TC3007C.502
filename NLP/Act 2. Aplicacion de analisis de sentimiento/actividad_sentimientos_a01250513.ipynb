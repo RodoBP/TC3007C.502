{
 "cells": [
  {
   "cell_type": "code",
   "execution_count": 18,
   "metadata": {},
   "outputs": [],
   "source": [
    "from transformers import pipeline\n",
    "import pandas as pd"
   ]
  },
  {
   "cell_type": "code",
   "execution_count": 33,
   "metadata": {},
   "outputs": [
    {
     "name": "stderr",
     "output_type": "stream",
     "text": [
      "Downloading (…)lve/main/config.json: 100%|██████████| 841/841 [00:00<00:00, 841kB/s]\n",
      "Downloading pytorch_model.bin: 100%|██████████| 440M/440M [00:38<00:00, 11.4MB/s] \n",
      "Downloading (…)okenizer_config.json: 100%|██████████| 528/528 [00:00<?, ?B/s] \n",
      "Downloading (…)solve/main/vocab.txt: 100%|██████████| 242k/242k [00:00<00:00, 12.6MB/s]\n",
      "Downloading (…)/main/tokenizer.json: 100%|██████████| 481k/481k [00:00<00:00, 12.0MB/s]\n",
      "Downloading (…)in/added_tokens.json: 100%|██████████| 67.0/67.0 [00:00<?, ?B/s]\n",
      "Downloading (…)cial_tokens_map.json: 100%|██████████| 112/112 [00:00<?, ?B/s] \n",
      "Special tokens have been added in the vocabulary, make sure the associated word embeddings are fine-tuned or trained.\n"
     ]
    }
   ],
   "source": [
    "# Especificar el modelo que deseas utilizar\n",
    "model_name = \"finiteautomata/beto-sentiment-analysis\" \n",
    "sentiment_analysis = pipeline(\"sentiment-analysis\", model=model_name)"
   ]
  },
  {
   "cell_type": "code",
   "execution_count": 34,
   "metadata": {},
   "outputs": [
    {
     "name": "stdout",
     "output_type": "stream",
     "text": [
      "   id   source languaje                                               text  \\\n",
      "0   1  twitter       es  RT @CesarAcunaP: Es necesario monitorear los a...   \n",
      "1   2  twitter       es  RT @CesarAcunaP: En la reunión, los dirigentes...   \n",
      "2   3  twitter       es  RT @CarmenOmonte: Reunidos para trabajar por e...   \n",
      "3   4  twitter       es  RT @CesarAcunaP: En Trujillo estamos junto a l...   \n",
      "4   5  twitter       es  @CesarAcunaP y ya decia yo de donde tanta plat...   \n",
      "\n",
      "     task1  \n",
      "0  noAcoso  \n",
      "1  noAcoso  \n",
      "2  noAcoso  \n",
      "3  noAcoso  \n",
      "4  noAcoso  \n"
     ]
    }
   ],
   "source": [
    "data = pd.read_csv('datasetfinal.csv')\n",
    "\n",
    "# Visualizar los primeros tweets para asegurarte de la estructura del dataset\n",
    "print(data.head())"
   ]
  },
  {
   "cell_type": "code",
   "execution_count": 35,
   "metadata": {},
   "outputs": [
    {
     "name": "stdout",
     "output_type": "stream",
     "text": [
      "                                                 text sentiment\n",
      "0   RT @CesarAcunaP: Es necesario monitorear los a...       NEU\n",
      "1   RT @CesarAcunaP: En la reunión, los dirigentes...       NEU\n",
      "2   RT @CarmenOmonte: Reunidos para trabajar por e...       NEU\n",
      "3   RT @CesarAcunaP: En Trujillo estamos junto a l...       NEU\n",
      "4   @CesarAcunaP y ya decia yo de donde tanta plat...       NEG\n",
      "..                                                ...       ...\n",
      "95  La política es un gran océano de pura basura s...       NEG\n",
      "96  Odio la política en general y TODOS lo polític...       NEG\n",
      "97  Pinche viejo ratero priista de cuna un dinosau...       NEG\n",
      "98  Ayyyy si!!! No veo diferencia alguna entre el ...       NEG\n",
      "99  Tu mero chinga tu madre! Y ya deja de hacerle ...       NEG\n",
      "\n",
      "[100 rows x 2 columns]\n"
     ]
    }
   ],
   "source": [
    "# Aplicar el análisis de sentimientos al DataFrame modificado solo a los primeros 100 comentarios\n",
    "data = data[:100]\n",
    "data['sentiment'] = data['text'].apply(lambda x: sentiment_analysis(x)[0]['label'])\n",
    "\n",
    "# Visualizar los resultados\n",
    "print(data[['text', 'sentiment']])\n"
   ]
  },
  {
   "cell_type": "code",
   "execution_count": 39,
   "metadata": {},
   "outputs": [
    {
     "name": "stdout",
     "output_type": "stream",
     "text": [
      "@CesarAcunaP y ya decia yo de donde tanta plata de la coca con los sanchez paredes @gvillasis y x q no investigas… https://t.co/xPZsnl14gF\n"
     ]
    }
   ],
   "source": [
    "print(data['text'][4])"
   ]
  },
  {
   "cell_type": "code",
   "execution_count": 37,
   "metadata": {},
   "outputs": [
    {
     "name": "stdout",
     "output_type": "stream",
     "text": [
      "Número de comentarios positivos:  17\n",
      "Número de comentarios negativos:  35\n",
      "Número de comentarios neutrales:  48\n"
     ]
    }
   ],
   "source": [
    "data_0 = data[data['sentiment'] == 'NEG']\n",
    "data_1 = data[data['sentiment'] == 'NEU']\n",
    "data_2 = data[data['sentiment'] == 'POS']\n",
    "\n",
    "print(\"Número de comentarios positivos: \", len(data_2))\n",
    "print(\"Número de comentarios negativos: \", len(data_0))\n",
    "print(\"Número de comentarios neutrales: \", len(data_1))"
   ]
  },
  {
   "cell_type": "code",
   "execution_count": null,
   "metadata": {},
   "outputs": [],
   "source": []
  }
 ],
 "metadata": {
  "kernelspec": {
   "display_name": "Python 3",
   "language": "python",
   "name": "python3"
  },
  "language_info": {
   "codemirror_mode": {
    "name": "ipython",
    "version": 3
   },
   "file_extension": ".py",
   "mimetype": "text/x-python",
   "name": "python",
   "nbconvert_exporter": "python",
   "pygments_lexer": "ipython3",
   "version": "3.10.11"
  }
 },
 "nbformat": 4,
 "nbformat_minor": 2
}
