{
  "nbformat": 4,
  "nbformat_minor": 0,
  "metadata": {
    "colab": {
      "provenance": [],
      "gpuType": "T4"
    },
    "kernelspec": {
      "name": "python3",
      "display_name": "Python 3"
    },
    "language_info": {
      "name": "python"
    },
    "accelerator": "GPU"
  },
  "cells": [
    {
      "cell_type": "markdown",
      "source": [
        "Importar librerias  "
      ],
      "metadata": {
        "id": "YHbHpe5Xr_PG"
      }
    },
    {
      "cell_type": "code",
      "execution_count": 36,
      "metadata": {
        "id": "AtVpHT9VlAv2"
      },
      "outputs": [],
      "source": [
        "import io\n",
        "import re\n",
        "import string\n",
        "import tqdm\n",
        "\n",
        "import numpy as np\n",
        "import tensorflow as tf\n",
        "from tensorflow.keras import layers\n",
        "\n",
        "SEED = 42\n",
        "AUTOTUNE = tf.data.AUTOTUNE"
      ]
    },
    {
      "cell_type": "markdown",
      "source": [
        "Tokenizacion"
      ],
      "metadata": {
        "id": "HNPpUlf0tSLT"
      }
    },
    {
      "cell_type": "code",
      "source": [
        "sentence = \"The wide road shimmered in the hot sun\"\n",
        "tokens = list(sentence.lower().split())\n",
        "print(len(tokens))"
      ],
      "metadata": {
        "colab": {
          "base_uri": "https://localhost:8080/"
        },
        "id": "tXsFlQawtaq1",
        "outputId": "ce908330-5ecf-4058-bd92-141dd6c222d6"
      },
      "execution_count": 37,
      "outputs": [
        {
          "output_type": "stream",
          "name": "stdout",
          "text": [
            "8\n"
          ]
        }
      ]
    },
    {
      "cell_type": "code",
      "source": [
        "#Crear vocabulario\n",
        "vocab, index = {}, 1\n",
        "vocab['pad']= 0  #padding\n",
        "for token in tokens:\n",
        "  if token not in vocab:\n",
        "    vocab[token] = index\n",
        "    index +=1\n",
        "\n",
        "vocab_size=len(vocab)\n",
        "print(vocab)\n"
      ],
      "metadata": {
        "colab": {
          "base_uri": "https://localhost:8080/"
        },
        "id": "LYEIO_gGuDFP",
        "outputId": "492c0a75-6cf3-45b8-ef85-542cd5aec9e6"
      },
      "execution_count": 38,
      "outputs": [
        {
          "output_type": "stream",
          "name": "stdout",
          "text": [
            "{'pad': 0, 'the': 1, 'wide': 2, 'road': 3, 'shimmered': 4, 'in': 5, 'hot': 6, 'sun': 7}\n"
          ]
        }
      ]
    },
    {
      "cell_type": "code",
      "source": [
        "# inversa del vocabulario\n",
        "inverse_vocab = {index: token for token, index in vocab.items()}\n",
        "print(inverse_vocab)"
      ],
      "metadata": {
        "colab": {
          "base_uri": "https://localhost:8080/"
        },
        "id": "jDyPoQ_4vqJL",
        "outputId": "05734ddf-cd7f-4e11-e157-a82f49cfdf8e"
      },
      "execution_count": 39,
      "outputs": [
        {
          "output_type": "stream",
          "name": "stdout",
          "text": [
            "{0: 'pad', 1: 'the', 2: 'wide', 3: 'road', 4: 'shimmered', 5: 'in', 6: 'hot', 7: 'sun'}\n"
          ]
        }
      ]
    },
    {
      "cell_type": "code",
      "source": [
        "example_sequence = [vocab[word] for word in tokens]\n",
        "print(example_sequence)"
      ],
      "metadata": {
        "colab": {
          "base_uri": "https://localhost:8080/"
        },
        "id": "ausxfR6BwfOb",
        "outputId": "1cd4221a-2437-416e-86a0-69a1db353a1f"
      },
      "execution_count": 40,
      "outputs": [
        {
          "output_type": "stream",
          "name": "stdout",
          "text": [
            "[1, 2, 3, 4, 5, 1, 6, 7]\n"
          ]
        }
      ]
    },
    {
      "cell_type": "markdown",
      "source": [
        "Generar skip-grams"
      ],
      "metadata": {
        "id": "lctHL55fxCAP"
      }
    },
    {
      "cell_type": "code",
      "source": [
        "window_size = 2\n",
        "positive_skip_grams, _ = tf.keras.preprocessing.sequence.skipgrams(\n",
        "    example_sequence,\n",
        "    vocabulary_size=vocab_size,\n",
        "    window_size= window_size,\n",
        "    negative_samples=0)\n",
        "print(len(positive_skip_grams))\n",
        "\n",
        "for target, context in positive_skip_grams[:5]:\n",
        "  print(f\"({target}, {context}): ({inverse_vocab[target]},{inverse_vocab[context]}))\")"
      ],
      "metadata": {
        "colab": {
          "base_uri": "https://localhost:8080/"
        },
        "id": "sDxzvzF0xFKu",
        "outputId": "75cb3a9e-2e84-4c48-e303-badfb869f77e"
      },
      "execution_count": 41,
      "outputs": [
        {
          "output_type": "stream",
          "name": "stdout",
          "text": [
            "26\n",
            "(3, 5): (road,in))\n",
            "(5, 4): (in,shimmered))\n",
            "(6, 7): (hot,sun))\n",
            "(3, 1): (road,the))\n",
            "(4, 2): (shimmered,wide))\n"
          ]
        }
      ]
    },
    {
      "cell_type": "markdown",
      "source": [
        "Generar muestras negativas"
      ],
      "metadata": {
        "id": "P04O5w77zVdx"
      }
    },
    {
      "cell_type": "code",
      "source": [
        "target_word, context_word = positive_skip_grams[0]\n",
        "num_ns = 4 #Numero de muestras negativas\n",
        "\n",
        "context_class = tf.reshape(tf.constant(context_word, dtype=\"int64\"), (1,1))\n",
        "\n",
        "negative_sampling_candidates, _ , _ = tf.random.log_uniform_candidate_sampler(\n",
        "    true_classes=context_class,\n",
        "    num_true=1,\n",
        "    num_sampled = num_ns,\n",
        "    unique = True,\n",
        "    range_max = vocab_size,\n",
        "    seed = SEED,\n",
        "    name = \"negative_sampling\"\n",
        ")\n",
        "\n",
        "print(negative_sampling_candidates)\n",
        "print([inverse_vocab[index.numpy()] for index in negative_sampling_candidates])"
      ],
      "metadata": {
        "colab": {
          "base_uri": "https://localhost:8080/"
        },
        "id": "OERHBxdUzjkd",
        "outputId": "22827210-3f2b-4104-ab28-be70c47a2936"
      },
      "execution_count": 42,
      "outputs": [
        {
          "output_type": "stream",
          "name": "stdout",
          "text": [
            "tf.Tensor([3 6 0 1], shape=(4,), dtype=int64)\n",
            "['road', 'hot', 'pad', 'the']\n"
          ]
        }
      ]
    },
    {
      "cell_type": "code",
      "source": [
        "squeezed_context_class = tf.squeeze(context_class, 1)\n",
        "context = tf.concat([squeezed_context_class, negative_sampling_candidates], 0)\n",
        "label = tf.constant([1] + [0] * num_ns, dtype=\"int64\")\n",
        "target = target_word\n",
        "\n",
        "print(f\"target_index     :{target}\")\n",
        "print(f\"target_word      :{inverse_vocab[target_word]}\")\n",
        "print(f\"context_indices  :{context}\")\n",
        "print(f\"context_words    :{[inverse_vocab[c.numpy()] for c in context]}\")\n",
        "print(f\"label            :{label}\")"
      ],
      "metadata": {
        "colab": {
          "base_uri": "https://localhost:8080/"
        },
        "id": "0tkLJdg927AK",
        "outputId": "6d514e00-9fd9-4416-a3c4-81a5d881e8a0"
      },
      "execution_count": 43,
      "outputs": [
        {
          "output_type": "stream",
          "name": "stdout",
          "text": [
            "target_index     :3\n",
            "target_word      :road\n",
            "context_indices  :[5 3 6 0 1]\n",
            "context_words    :['in', 'road', 'hot', 'pad', 'the']\n",
            "label            :[1 0 0 0 0]\n"
          ]
        }
      ]
    },
    {
      "cell_type": "markdown",
      "source": [
        "Generar datos de entrenamiento"
      ],
      "metadata": {
        "id": "rWWh6lzm5QKx"
      }
    },
    {
      "cell_type": "code",
      "source": [
        "def generate_training_data(sequences, window_size, num_ns, vocab_size, seed):\n",
        "  targets, contexts, labels =[],[],[]\n",
        "\n",
        "  sampling_table = tf.keras.preprocessing.sequence.make_sampling_table(vocab_size)\n",
        "\n",
        "  for sequence in tqdm.tqdm(sequences):\n",
        "\n",
        "    #Generar skip_gram positivo de cada palabra\n",
        "    positive_skip_grams, _ = tf.keras.preprocessing.sequence.skipgrams(\n",
        "      sequence,\n",
        "      vocabulary_size= vocab_size,\n",
        "      sampling_table=sampling_table,\n",
        "      window_size=window_size,\n",
        "      negative_samples=0)\n",
        "\n",
        "    #Generar muestras negativas\n",
        "    for target_word, context_word in positive_skip_grams:\n",
        "\n",
        "      context_class = tf.expand_dims(\n",
        "          tf.constant([context_word], dtype=\"int64\"), 1)\n",
        "\n",
        "      negative_sampling_candidates, _, _ =tf.random.log_uniform_candidate_sampler(\n",
        "          true_classes=context_class,\n",
        "          num_true=1,\n",
        "          num_sampled=num_ns,\n",
        "          unique=True,\n",
        "          range_max=vocab_size,\n",
        "          seed = seed,\n",
        "          name = \"negative_sampling\")\n",
        "\n",
        "      # Concatenar y etiquetas\n",
        "      context = tf.concat([tf.squeeze(context_class,1), negative_sampling_candidates], 0)\n",
        "      label = tf.constant([1] + [0]*num_ns, dtype=\"int64\")\n",
        "\n",
        "      #Agregar a la lista\n",
        "      targets.append(target_word)\n",
        "      contexts.append(context)\n",
        "      labels.append(label)\n",
        "\n",
        "  return targets, contexts, labels"
      ],
      "metadata": {
        "id": "fUnrGqRf5THO"
      },
      "execution_count": 44,
      "outputs": []
    },
    {
      "cell_type": "markdown",
      "source": [
        "Descargar documento (Text Corpus)"
      ],
      "metadata": {
        "id": "DXuvTVwiBbcP"
      }
    },
    {
      "cell_type": "code",
      "source": [
        "path_to_file = tf.keras.utils.get_file('shakespeare.txt', 'https://storage.googleapis.com/download.tensorflow.org/data/shakespeare.txt')"
      ],
      "metadata": {
        "id": "fcRoCOoHBhdG"
      },
      "execution_count": 45,
      "outputs": []
    },
    {
      "cell_type": "code",
      "source": [
        "text_ds = tf.data.TextLineDataset(path_to_file).filter(lambda x: tf.cast(tf.strings.length(x),bool))"
      ],
      "metadata": {
        "id": "6aqlFzBoC2Rf"
      },
      "execution_count": 46,
      "outputs": []
    },
    {
      "cell_type": "markdown",
      "source": [
        "Estandarizacion"
      ],
      "metadata": {
        "id": "CsQTPSP0DdD1"
      }
    },
    {
      "cell_type": "code",
      "source": [
        "def custom_stadardization(input_data):\n",
        "  lowercase = tf.strings.lower(input_data)\n",
        "  return tf.strings.regex_replace(lowercase,\n",
        "                                  '[%s]' % re.escape(string.punctuation), '')\n",
        "\n",
        "vocab_size = 4096\n",
        "sequence_length = 10\n",
        "\n",
        "vectorize_layer = layers.TextVectorization(\n",
        "    standardize = custom_stadardization,\n",
        "    max_tokens = vocab_size,\n",
        "    output_mode = 'int',\n",
        "    output_sequence_length = sequence_length)\n",
        "\n",
        "vectorize_layer.adapt(text_ds.batch(1024))"
      ],
      "metadata": {
        "id": "5bU91R1LDhhT"
      },
      "execution_count": 47,
      "outputs": []
    },
    {
      "cell_type": "code",
      "source": [
        "inverse_vocab = vectorize_layer.get_vocabulary()\n",
        "print(inverse_vocab[:20])"
      ],
      "metadata": {
        "colab": {
          "base_uri": "https://localhost:8080/"
        },
        "id": "8BDYfQ9dGFZO",
        "outputId": "0cc1f01e-1252-4cd6-bd55-ec06d3581e44"
      },
      "execution_count": 48,
      "outputs": [
        {
          "output_type": "stream",
          "name": "stdout",
          "text": [
            "['', '[UNK]', 'the', 'and', 'to', 'i', 'of', 'you', 'my', 'a', 'that', 'in', 'is', 'not', 'for', 'with', 'me', 'it', 'be', 'your']\n"
          ]
        }
      ]
    },
    {
      "cell_type": "code",
      "source": [
        "text_vector_ds = text_ds.batch(1024).prefetch(AUTOTUNE).map(vectorize_layer).unbatch()"
      ],
      "metadata": {
        "id": "YmidU57iGf9C"
      },
      "execution_count": 49,
      "outputs": []
    },
    {
      "cell_type": "code",
      "source": [
        "sequences = list(text_vector_ds.as_numpy_iterator())\n",
        "print(len(sequences))\n",
        "for seq in sequences[:10]:\n",
        "  print(f\"{seq} => {[inverse_vocab[i] for i in seq]}\")"
      ],
      "metadata": {
        "colab": {
          "base_uri": "https://localhost:8080/"
        },
        "id": "VoDDS1gVG-9_",
        "outputId": "4a3c0273-910d-4282-a9e3-8ed062e72071"
      },
      "execution_count": 50,
      "outputs": [
        {
          "output_type": "stream",
          "name": "stdout",
          "text": [
            "32777\n",
            "[ 89 270   0   0   0   0   0   0   0   0] => ['first', 'citizen', '', '', '', '', '', '', '', '']\n",
            "[138  36 982 144 673 125  16 106   0   0] => ['before', 'we', 'proceed', 'any', 'further', 'hear', 'me', 'speak', '', '']\n",
            "[34  0  0  0  0  0  0  0  0  0] => ['all', '', '', '', '', '', '', '', '', '']\n",
            "[106 106   0   0   0   0   0   0   0   0] => ['speak', 'speak', '', '', '', '', '', '', '', '']\n",
            "[ 89 270   0   0   0   0   0   0   0   0] => ['first', 'citizen', '', '', '', '', '', '', '', '']\n",
            "[   7   41   34 1286  344    4  200   64    4 3690] => ['you', 'are', 'all', 'resolved', 'rather', 'to', 'die', 'than', 'to', 'famish']\n",
            "[34  0  0  0  0  0  0  0  0  0] => ['all', '', '', '', '', '', '', '', '', '']\n",
            "[1286 1286    0    0    0    0    0    0    0    0] => ['resolved', 'resolved', '', '', '', '', '', '', '', '']\n",
            "[ 89 270   0   0   0   0   0   0   0   0] => ['first', 'citizen', '', '', '', '', '', '', '', '']\n",
            "[  89    7   93 1187  225   12 2442  592    4    2] => ['first', 'you', 'know', 'caius', 'marcius', 'is', 'chief', 'enemy', 'to', 'the']\n"
          ]
        }
      ]
    },
    {
      "cell_type": "markdown",
      "source": [
        "Generar datos de entrenamiento"
      ],
      "metadata": {
        "id": "1UO-wCAOeemb"
      }
    },
    {
      "cell_type": "code",
      "source": [
        "targets, contexts, labels = generate_training_data(\n",
        "    sequences = sequences,\n",
        "    window_size= 2,\n",
        "    num_ns=4,\n",
        "    vocab_size=vocab_size,\n",
        "    seed=SEED\n",
        ")\n",
        "\n",
        "targets = np.array(targets)\n",
        "contexts = np.array(contexts)\n",
        "labels= np.array(labels)\n",
        "\n",
        "print('\\n')\n",
        "print(f\"targets.shape: {targets.shape}\")\n",
        "print(f\"contexts.shape: {contexts.shape}\")\n",
        "print(f\"labels.shape: {labels.shape}\")"
      ],
      "metadata": {
        "colab": {
          "base_uri": "https://localhost:8080/"
        },
        "id": "h-313HYXelQm",
        "outputId": "4ff61507-e933-4488-f402-1f78e066d062"
      },
      "execution_count": 51,
      "outputs": [
        {
          "output_type": "stream",
          "name": "stderr",
          "text": [
            "100%|██████████| 32777/32777 [01:01<00:00, 534.06it/s]\n"
          ]
        },
        {
          "output_type": "stream",
          "name": "stdout",
          "text": [
            "\n",
            "\n",
            "targets.shape: (64864,)\n",
            "contexts.shape: (64864, 5)\n",
            "labels.shape: (64864, 5)\n"
          ]
        }
      ]
    }
  ]
}