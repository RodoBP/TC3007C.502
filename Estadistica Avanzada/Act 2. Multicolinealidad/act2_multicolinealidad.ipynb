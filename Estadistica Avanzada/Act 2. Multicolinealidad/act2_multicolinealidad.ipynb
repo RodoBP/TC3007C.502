{
 "cells": [
  {
   "cell_type": "markdown",
   "metadata": {},
   "source": [
    "### 1: Introduccion"
   ]
  },
  {
   "cell_type": "markdown",
   "metadata": {},
   "source": [
    "En este informe, se realizará un análisis de datos utilizando un conjunto de datos sobre abalones.\n",
    "El objetivo es evaluar el impacto de puntos influyentes, outliers, multicolinealidad y técnicas de transformación en el modelo de regresión.\n",
    "Se calcularán métricas como R^2 y MSE y se interpretarán los resultados.\n"
   ]
  },
  {
   "cell_type": "markdown",
   "metadata": {},
   "source": [
    "### 2: Análisis Inicial de los Datos"
   ]
  },
  {
   "cell_type": "code",
   "execution_count": 1,
   "metadata": {},
   "outputs": [],
   "source": [
    "import numpy as np\n",
    "import pandas as pd\n",
    "import matplotlib.pyplot as plt\n",
    "import seaborn as sns\n",
    "import statsmodels.api as sm\n",
    "from scipy.stats import norm, uniform, skewnorm\n",
    "from ucimlrepo import fetch_ucirepo\n",
    "from sklearn.preprocessing import MinMaxScaler, StandardScaler\n",
    "\n",
    "# Obtención del dataset\n",
    "abalone = fetch_ucirepo(id=1)\n",
    "\n",
    "# Preparar los datos\n",
    "X = abalone.data.features\n",
    "y = abalone.data.targets\n",
    "X = X.drop('Sex', axis=1)\n",
    "X.reset_index(drop=True, inplace=True)\n",
    "y.reset_index(drop=True, inplace=True)\n",
    "df = pd.concat([y, X], axis=1)"
   ]
  },
  {
   "cell_type": "markdown",
   "metadata": {},
   "source": [
    "### 3: Análisis de Puntos Influyentes"
   ]
  },
  {
   "cell_type": "code",
   "execution_count": 2,
   "metadata": {},
   "outputs": [
    {
     "name": "stdout",
     "output_type": "stream",
     "text": [
      "const              2.985154\n",
      "Length            -1.571897\n",
      "Diameter          13.360916\n",
      "Height            11.826072\n",
      "Whole_weight       9.247414\n",
      "Shucked_weight   -20.213913\n",
      "Viscera_weight    -9.829675\n",
      "Shell_weight       8.576242\n",
      "dtype: float64\n",
      "\n",
      "R^2 = 0.5276299399919837\n"
     ]
    }
   ],
   "source": [
    "X_fit = sm.add_constant(X)\n",
    "model = sm.OLS(y, X_fit)\n",
    "fitted_model = model.fit()\n",
    "\n",
    "# Cálculo de r^2 y parámetros\n",
    "print(fitted_model.params)\n",
    "print('\\nR^2 =', fitted_model.rsquared)\n",
    "\n",
    "# Identificación de puntos influyentes\n",
    "influence = fitted_model.get_influence()\n",
    "H_diag = influence.hat_matrix_diag\n",
    "cooks_dist = influence.cooks_distance[0]"
   ]
  },
  {
   "cell_type": "markdown",
   "metadata": {},
   "source": [
    "### 4: Outliers"
   ]
  },
  {
   "cell_type": "code",
   "execution_count": 4,
   "metadata": {},
   "outputs": [
    {
     "name": "stdout",
     "output_type": "stream",
     "text": [
      "Upper limit:\n",
      " Length            0.884271\n",
      "Diameter          0.705601\n",
      "Height            0.264998\n",
      "Whole_weight      2.299909\n",
      "Shucked_weight    1.025256\n",
      "Viscera_weight    0.509436\n",
      "Shell_weight      0.656439\n",
      "dtype: float64\n",
      "\n",
      "Lower limit:\n",
      " Length            0.163713\n",
      "Diameter          0.110162\n",
      "Height            0.014035\n",
      "Whole_weight     -0.642425\n",
      "Shucked_weight   -0.306521\n",
      "Viscera_weight   -0.148249\n",
      "Shell_weight     -0.178777\n",
      "dtype: float64\n",
      "Q1: Length            0.4500\n",
      "Diameter          0.3500\n",
      "Height            0.1150\n",
      "Whole_weight      0.4415\n",
      "Shucked_weight    0.1860\n",
      "Viscera_weight    0.0935\n",
      "Shell_weight      0.1300\n",
      "Name: 0.25, dtype: float64\n",
      "\n",
      "Q3: Length            0.615\n",
      "Diameter          0.480\n",
      "Height            0.165\n",
      "Whole_weight      1.153\n",
      "Shucked_weight    0.502\n",
      "Viscera_weight    0.253\n",
      "Shell_weight      0.329\n",
      "Name: 0.75, dtype: float64\n",
      "\n",
      "IQR: Length            0.1650\n",
      "Diameter          0.1300\n",
      "Height            0.0500\n",
      "Whole_weight      0.7115\n",
      "Shucked_weight    0.3160\n",
      "Viscera_weight    0.1595\n",
      "Shell_weight      0.1990\n",
      "dtype: float64\n",
      "Number of outlier samples (27016,)\n"
     ]
    }
   ],
   "source": [
    "# Identificación de los Outliers\n",
    "# Detección usando Z-score\n",
    "up_lim = X.mean() + 3 * X.std()\n",
    "dw_lim = X.mean() - 3 * X.std()\n",
    "\n",
    "print(\"Upper limit:\\n\", up_lim)\n",
    "print(\"\\nLower limit:\\n\", dw_lim)\n",
    "\n",
    "# Detección usando percentiles\n",
    "Q1 = X.quantile(0.25)\n",
    "Q3 = X.quantile(0.75)\n",
    "iqr = Q3 - Q1\n",
    "\n",
    "print(\"Q1:\", Q1)\n",
    "print(\"\\nQ3:\", Q3)\n",
    "print(\"\\nIQR:\", iqr)\n",
    "\n",
    "outliers_iqr = (X < Q1 + 1.5 * iqr) | (X > Q3 + 1.5 * iqr)\n",
    "print(\"Number of outlier samples\", X.to_numpy()[outliers_iqr].shape)"
   ]
  },
  {
   "cell_type": "markdown",
   "metadata": {},
   "source": [
    "### 5: Transformación para lidiar con los outliers"
   ]
  },
  {
   "cell_type": "code",
   "execution_count": 9,
   "metadata": {},
   "outputs": [
    {
     "name": "stdout",
     "output_type": "stream",
     "text": [
      "Max Values: [0.815  0.65   1.13   2.8255 1.488  0.76   1.005 ]\n",
      "\n",
      "Transformation step:\n",
      "[[ 0.02702703  0.04201681 -0.83185841 ... -0.69939475 -0.73535221\n",
      "  -0.70403587]\n",
      " [-0.25675676 -0.29411765 -0.84070796 ... -0.86751849 -0.87360105\n",
      "  -0.86347783]\n",
      " [ 0.22972973  0.22689076 -0.76106195 ... -0.65635508 -0.62870309\n",
      "  -0.58445441]\n",
      " ...\n",
      " [ 0.41891892  0.41176471 -0.63716814 ... -0.29455279 -0.24423963\n",
      "  -0.38913802]\n",
      " [ 0.48648649  0.44537815 -0.73451327 ... -0.28715535 -0.31402238\n",
      "  -0.41305431]\n",
      " [ 0.71621622  0.68067227 -0.65486726 ...  0.27034297 -0.00987492\n",
      "  -0.01644245]]\n",
      "[[4.2027027  5.53781513 2.53982301 0.41526474 1.68863484 4.26530612\n",
      "  2.98305929]]\n",
      "Means: [0.5239921  0.40788125 0.1395164  0.82874216 0.35936749 0.18059361\n",
      " 0.23883086]\n",
      "Transformation step:\n",
      "[[-0.57455813 -0.43214879 -1.06442415 ... -0.60768536 -0.72621157\n",
      "  -0.63821689]\n",
      " [-1.44898585 -1.439929   -1.18397831 ... -1.17090984 -1.20522124\n",
      "  -1.21298732]\n",
      " [ 0.05003309  0.12213032 -0.10799087 ... -0.4634999  -0.35668983\n",
      "  -0.20713907]\n",
      " ...\n",
      " [ 0.6329849   0.67640943  1.56576738 ...  0.74855917  0.97541324\n",
      "   0.49695471]\n",
      " [ 0.84118198  0.77718745  0.25067161 ...  0.77334105  0.73362741\n",
      "   0.41073914]\n",
      " [ 1.54905203  1.48263359  1.32665906 ...  2.64099341  1.78744868\n",
      "   1.84048058]] \n",
      "\n",
      "[[12.2920211  16.04505753 44.48571086  2.38871187  7.39235509 16.60025239\n",
      "  12.65334926]]\n",
      "Q1: 0.16\n",
      "Q1: 0.505\n",
      "[[0.455  0.365  0.189  ... 0.2245 0.189  0.189 ]\n",
      " [0.35   0.265  0.189  ... 0.189  0.189  0.189 ]\n",
      " [0.455  0.42   0.189  ... 0.2565 0.189  0.21  ]\n",
      " ...\n",
      " [0.455  0.455  0.205  ... 0.455  0.2875 0.308 ]\n",
      " [0.455  0.455  0.189  ... 0.455  0.261  0.296 ]\n",
      " [0.455  0.455  0.195  ... 0.455  0.3765 0.455 ]]\n"
     ]
    },
    {
     "name": "stderr",
     "output_type": "stream",
     "text": [
      "C:\\Users\\luisr\\AppData\\Local\\Packages\\PythonSoftwareFoundation.Python.3.11_qbz5n2kfra8p0\\LocalCache\\local-packages\\Python311\\site-packages\\sklearn\\base.py:464: UserWarning: X does not have valid feature names, but MinMaxScaler was fitted with feature names\n",
      "  warnings.warn(\n",
      "C:\\Users\\luisr\\AppData\\Local\\Packages\\PythonSoftwareFoundation.Python.3.11_qbz5n2kfra8p0\\LocalCache\\local-packages\\Python311\\site-packages\\sklearn\\base.py:464: UserWarning: X does not have valid feature names, but StandardScaler was fitted with feature names\n",
      "  warnings.warn(\n"
     ]
    }
   ],
   "source": [
    "# Escalado min-max\n",
    "scaler = MinMaxScaler(feature_range=(-1, 1))\n",
    "scaler.fit(X)\n",
    "\n",
    "print(\"Max Values:\", scaler.data_max_)\n",
    "\n",
    "print(\"\\nTransformation step:\")\n",
    "mima = scaler.transform(X)\n",
    "print(mima)\n",
    "print(scaler.transform([[2, 2, 2, 2, 2, 2, 2]]))\n",
    "\n",
    "# Normalización Z-score\n",
    "scaler = StandardScaler()\n",
    "scaler.fit(X)\n",
    "\n",
    "print('Means:', scaler.mean_)\n",
    "\n",
    "print('Transformation step:')\n",
    "zSc = scaler.transform(X)\n",
    "print(zSc, '\\n')\n",
    "print(scaler.transform([[2, 2, 2, 2, 2, 2, 2]]))\n",
    "\n",
    "# Winsorización\n",
    "Q1 = np.quantile(X.to_numpy(), 0.25)\n",
    "Q3 = np.quantile(X.to_numpy(), 0.75)\n",
    "\n",
    "iqr = Q3 - Q1\n",
    "\n",
    "print(\"Q1:\", Q1)\n",
    "print(\"Q1:\", Q3)\n",
    "\n",
    "from scipy.stats.mstats import winsorize\n",
    "\n",
    "win = winsorize(X.to_numpy(), limits=[0.32, 0.32])\n",
    "print(win)"
   ]
  },
  {
   "cell_type": "code",
   "execution_count": null,
   "metadata": {},
   "outputs": [],
   "source": []
  }
 ],
 "metadata": {
  "kernelspec": {
   "display_name": "Python 3",
   "language": "python",
   "name": "python3"
  },
  "language_info": {
   "codemirror_mode": {
    "name": "ipython",
    "version": 3
   },
   "file_extension": ".py",
   "mimetype": "text/x-python",
   "name": "python",
   "nbconvert_exporter": "python",
   "pygments_lexer": "ipython3",
   "version": "3.11.6"
  }
 },
 "nbformat": 4,
 "nbformat_minor": 2
}
